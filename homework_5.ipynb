{
 "cells": [
  {
   "cell_type": "markdown",
   "id": "c30cba0e",
   "metadata": {},
   "source": [
    "# Введение в нейронные сети\n",
    "\n",
    "## Урок 5. Рекуррентные нейронные сети\n",
    "\n",
    "1. Попробуйте починить сеть по словам.\n",
    "\n",
    "2. Попробуйте изменить параметры нейронной сети, генерирующей текст таким образом, чтобы добиться генерации как можно более осмысленного текста. Пришлите лучший текст из получившихся и опишите предпринятые для его получения действия. Можно использовать текст другого произведения"
   ]
  },
  {
   "cell_type": "code",
   "execution_count": 1,
   "id": "51bc351f",
   "metadata": {},
   "outputs": [],
   "source": [
    "import re\n",
    "\n",
    "import numpy as np\n",
    "\n",
    "import keras\n",
    "from keras.preprocessing.text import Tokenizer\n",
    "from keras.models import Sequential\n",
    "from keras.layers import Input, SimpleRNN, Dense, GRU, LSTM, Bidirectional\n",
    "from keras.utils import to_categorical"
   ]
  },
  {
   "cell_type": "code",
   "execution_count": 2,
   "id": "5e82665d",
   "metadata": {},
   "outputs": [
    {
     "data": {
      "text/plain": [
       "'Вы — лучший ответ на проблемы, которые возникли в понедельник.\\nДумайте позитивно и верьте в свою способность достигать отличных результатов.\\nЕсли вы смогли в понедельник подняться с постели, значит вы супер герой.'"
      ]
     },
     "execution_count": 2,
     "metadata": {},
     "output_type": "execute_result"
    }
   ],
   "source": [
    "with open('train_data.txt', 'r', encoding='utf-8') as f:\n",
    "    text = f.read()\n",
    "    text = text.replace('\\ufeff', '') # убираем первый невидимый символ\n",
    "text"
   ]
  },
  {
   "cell_type": "code",
   "execution_count": 3,
   "id": "17608e6e",
   "metadata": {},
   "outputs": [],
   "source": [
    "maxWordsCount = 1000\n",
    "token = Tokenizer(num_words=maxWordsCount,\n",
    "                  filters='!–\"—#$%&amp;()*+,-./:;<=>?@[\\\\]^_`{|}~\\t\\n\\r«»',\n",
    "                  lower=True,\n",
    "                  split=' ',\n",
    "                  char_level=False)"
   ]
  },
  {
   "cell_type": "code",
   "execution_count": 4,
   "id": "a69a179c",
   "metadata": {},
   "outputs": [],
   "source": [
    "token.fit_on_texts([text])"
   ]
  },
  {
   "cell_type": "code",
   "execution_count": 5,
   "id": "c3c0b012",
   "metadata": {},
   "outputs": [
    {
     "data": {
      "text/plain": [
       "{1: 'вы',\n",
       " 2: 'в',\n",
       " 3: 'понедельник',\n",
       " 4: 'лучший',\n",
       " 5: 'ответ',\n",
       " 6: 'на',\n",
       " 7: 'проблемы',\n",
       " 8: 'которые',\n",
       " 9: 'возникли',\n",
       " 10: 'думайте',\n",
       " 11: 'позитивно',\n",
       " 12: 'и',\n",
       " 13: 'верьте',\n",
       " 14: 'свою',\n",
       " 15: 'способность',\n",
       " 16: 'достигать',\n",
       " 17: 'отличных',\n",
       " 18: 'результатов',\n",
       " 19: 'если',\n",
       " 20: 'смогли',\n",
       " 21: 'подняться',\n",
       " 22: 'с',\n",
       " 23: 'постели',\n",
       " 24: 'значит',\n",
       " 25: 'супер',\n",
       " 26: 'герой'}"
      ]
     },
     "execution_count": 5,
     "metadata": {},
     "output_type": "execute_result"
    }
   ],
   "source": [
    "token.index_word"
   ]
  },
  {
   "cell_type": "code",
   "execution_count": 6,
   "id": "9d0c16f5",
   "metadata": {},
   "outputs": [
    {
     "data": {
      "text/plain": [
       "{'вы': 1,\n",
       " 'в': 2,\n",
       " 'понедельник': 3,\n",
       " 'лучший': 4,\n",
       " 'ответ': 5,\n",
       " 'на': 6,\n",
       " 'проблемы': 7,\n",
       " 'которые': 8,\n",
       " 'возникли': 9,\n",
       " 'думайте': 10,\n",
       " 'позитивно': 11,\n",
       " 'и': 12,\n",
       " 'верьте': 13,\n",
       " 'свою': 14,\n",
       " 'способность': 15,\n",
       " 'достигать': 16,\n",
       " 'отличных': 17,\n",
       " 'результатов': 18,\n",
       " 'если': 19,\n",
       " 'смогли': 20,\n",
       " 'подняться': 21,\n",
       " 'с': 22,\n",
       " 'постели': 23,\n",
       " 'значит': 24,\n",
       " 'супер': 25,\n",
       " 'герой': 26}"
      ]
     },
     "execution_count": 6,
     "metadata": {},
     "output_type": "execute_result"
    }
   ],
   "source": [
    "token.word_index"
   ]
  },
  {
   "cell_type": "code",
   "execution_count": 7,
   "id": "bb26c8a1",
   "metadata": {},
   "outputs": [
    {
     "data": {
      "text/plain": [
       "[('вы', 3),\n",
       " ('лучший', 1),\n",
       " ('ответ', 1),\n",
       " ('на', 1),\n",
       " ('проблемы', 1),\n",
       " ('которые', 1),\n",
       " ('возникли', 1),\n",
       " ('в', 3),\n",
       " ('понедельник', 2),\n",
       " ('думайте', 1),\n",
       " ('позитивно', 1),\n",
       " ('и', 1),\n",
       " ('верьте', 1),\n",
       " ('свою', 1),\n",
       " ('способность', 1),\n",
       " ('достигать', 1),\n",
       " ('отличных', 1),\n",
       " ('результатов', 1),\n",
       " ('если', 1),\n",
       " ('смогли', 1),\n",
       " ('подняться', 1),\n",
       " ('с', 1),\n",
       " ('постели', 1),\n",
       " ('значит', 1),\n",
       " ('супер', 1),\n",
       " ('герой', 1)]"
      ]
     },
     "execution_count": 7,
     "metadata": {},
     "output_type": "execute_result"
    }
   ],
   "source": [
    "dist = list(token.word_counts.items())\n",
    "dist"
   ]
  },
  {
   "cell_type": "code",
   "execution_count": 8,
   "id": "906edef7",
   "metadata": {},
   "outputs": [],
   "source": [
    "data = token.texts_to_sequences([text])"
   ]
  },
  {
   "cell_type": "code",
   "execution_count": 9,
   "id": "7cccc834",
   "metadata": {},
   "outputs": [
    {
     "data": {
      "text/plain": [
       "(31, 1000)"
      ]
     },
     "execution_count": 9,
     "metadata": {},
     "output_type": "execute_result"
    }
   ],
   "source": [
    "data_cat = to_categorical(data[0], num_classes=maxWordsCount)\n",
    "data_cat.shape"
   ]
  },
  {
   "cell_type": "code",
   "execution_count": 10,
   "id": "c61db813",
   "metadata": {},
   "outputs": [],
   "source": [
    "inp_words = 3\n",
    "n = data_cat.shape[0]-inp_words"
   ]
  },
  {
   "cell_type": "code",
   "execution_count": 11,
   "id": "315bd394",
   "metadata": {},
   "outputs": [],
   "source": [
    "X = np.array([data_cat[i:i+inp_words, :] for i in range(n)])\n",
    "Y = data_cat[inp_words:]"
   ]
  },
  {
   "cell_type": "code",
   "execution_count": 12,
   "id": "5fa5bc26",
   "metadata": {},
   "outputs": [],
   "source": [
    "model = Sequential()\n",
    "model.add(Input((inp_words, maxWordsCount)))\n",
    "model.add(SimpleRNN(128, activation='tanh'))\n",
    "\n",
    "#model.add(GRU(128, activation='tanh'))\n",
    "#model.add(LSTM(128, activation='tanh'))\n",
    "#model.add(Bidirectional(SimpleRNN(128, activation='tanh')))\n",
    "\n",
    "model.add(Dense(maxWordsCount, activation='softmax'))"
   ]
  },
  {
   "cell_type": "code",
   "execution_count": 13,
   "id": "d3f1816b",
   "metadata": {},
   "outputs": [
    {
     "name": "stdout",
     "output_type": "stream",
     "text": [
      "Model: \"sequential\"\n",
      "_________________________________________________________________\n",
      " Layer (type)                Output Shape              Param #   \n",
      "=================================================================\n",
      " simple_rnn (SimpleRNN)      (None, 128)               144512    \n",
      "                                                                 \n",
      " dense (Dense)               (None, 1000)              129000    \n",
      "                                                                 \n",
      "=================================================================\n",
      "Total params: 273,512\n",
      "Trainable params: 273,512\n",
      "Non-trainable params: 0\n",
      "_________________________________________________________________\n"
     ]
    }
   ],
   "source": [
    "model.summary()"
   ]
  },
  {
   "cell_type": "code",
   "execution_count": 14,
   "id": "f51e9264",
   "metadata": {},
   "outputs": [],
   "source": [
    "model.compile(loss='categorical_crossentropy',\n",
    "              metrics=['accuracy'],\n",
    "              optimizer='adam')"
   ]
  },
  {
   "cell_type": "code",
   "execution_count": 15,
   "id": "b9f494dd",
   "metadata": {},
   "outputs": [
    {
     "name": "stdout",
     "output_type": "stream",
     "text": [
      "Epoch 1/20\n",
      "1/1 [==============================] - 1s 596ms/step - loss: 6.8995 - accuracy: 0.0000e+00\n",
      "Epoch 2/20\n",
      "1/1 [==============================] - 0s 4ms/step - loss: 6.8730 - accuracy: 0.0000e+00\n",
      "Epoch 3/20\n",
      "1/1 [==============================] - 0s 4ms/step - loss: 6.8462 - accuracy: 0.0714\n",
      "Epoch 4/20\n",
      "1/1 [==============================] - 0s 5ms/step - loss: 6.8188 - accuracy: 0.2143\n",
      "Epoch 5/20\n",
      "1/1 [==============================] - 0s 5ms/step - loss: 6.7905 - accuracy: 0.5000\n",
      "Epoch 6/20\n",
      "1/1 [==============================] - 0s 4ms/step - loss: 6.7610 - accuracy: 0.6786\n",
      "Epoch 7/20\n",
      "1/1 [==============================] - 0s 6ms/step - loss: 6.7300 - accuracy: 0.8571\n",
      "Epoch 8/20\n",
      "1/1 [==============================] - 0s 5ms/step - loss: 6.6972 - accuracy: 0.9286\n",
      "Epoch 9/20\n",
      "1/1 [==============================] - 0s 4ms/step - loss: 6.6621 - accuracy: 0.9286\n",
      "Epoch 10/20\n",
      "1/1 [==============================] - 0s 5ms/step - loss: 6.6244 - accuracy: 0.9286\n",
      "Epoch 11/20\n",
      "1/1 [==============================] - 0s 5ms/step - loss: 6.5834 - accuracy: 0.9286\n",
      "Epoch 12/20\n",
      "1/1 [==============================] - 0s 4ms/step - loss: 6.5387 - accuracy: 0.9643\n",
      "Epoch 13/20\n",
      "1/1 [==============================] - 0s 4ms/step - loss: 6.4895 - accuracy: 0.9643\n",
      "Epoch 14/20\n",
      "1/1 [==============================] - 0s 4ms/step - loss: 6.4350 - accuracy: 0.9643\n",
      "Epoch 15/20\n",
      "1/1 [==============================] - 0s 4ms/step - loss: 6.3743 - accuracy: 0.9643\n",
      "Epoch 16/20\n",
      "1/1 [==============================] - 0s 4ms/step - loss: 6.3064 - accuracy: 0.9643\n",
      "Epoch 17/20\n",
      "1/1 [==============================] - 0s 5ms/step - loss: 6.2300 - accuracy: 0.9643\n",
      "Epoch 18/20\n",
      "1/1 [==============================] - 0s 4ms/step - loss: 6.1437 - accuracy: 0.9643\n",
      "Epoch 19/20\n",
      "1/1 [==============================] - 0s 4ms/step - loss: 6.0459 - accuracy: 0.9643\n",
      "Epoch 20/20\n",
      "1/1 [==============================] - 0s 7ms/step - loss: 5.9349 - accuracy: 0.9643\n"
     ]
    }
   ],
   "source": [
    "history = model.fit(X, Y, batch_size=32, epochs=20)"
   ]
  },
  {
   "cell_type": "code",
   "execution_count": 16,
   "id": "27c56851",
   "metadata": {},
   "outputs": [],
   "source": [
    "def buildPhrase(text, str_len = 20):\n",
    "    out_str = text\n",
    "    in_data = token.texts_to_sequences([text])[0]\n",
    "    for i in range(str_len):\n",
    "        x = to_categorical(in_data[i: i+inp_words], num_classes=maxWordsCount) # преобразуем в One-Hot-encoding\n",
    "        inp = x.reshape(1, inp_words, maxWordsCount)\n",
    "        pred = model.predict(inp) # предсказываем OHE четвертого символа\n",
    "        indx = pred.argmax(axis=1)[0]\n",
    "        in_data.append(indx)\n",
    "        out_str += \" \" + token.index_word[indx] # дописываем строку\n",
    "    return out_str"
   ]
  },
  {
   "cell_type": "code",
   "execution_count": 17,
   "id": "c31e91e5",
   "metadata": {},
   "outputs": [
    {
     "name": "stdout",
     "output_type": "stream",
     "text": [
      "1/1 [==============================] - 0s 96ms/step\n",
      "1/1 [==============================] - 0s 14ms/step\n",
      "1/1 [==============================] - 0s 13ms/step\n",
      "1/1 [==============================] - 0s 13ms/step\n",
      "1/1 [==============================] - 0s 14ms/step\n",
      "1/1 [==============================] - 0s 14ms/step\n",
      "1/1 [==============================] - 0s 15ms/step\n",
      "1/1 [==============================] - 0s 14ms/step\n",
      "1/1 [==============================] - 0s 14ms/step\n",
      "1/1 [==============================] - 0s 14ms/step\n",
      "1/1 [==============================] - 0s 15ms/step\n",
      "1/1 [==============================] - 0s 15ms/step\n",
      "1/1 [==============================] - 0s 14ms/step\n",
      "1/1 [==============================] - 0s 15ms/step\n",
      "1/1 [==============================] - 0s 14ms/step\n",
      "1/1 [==============================] - 0s 14ms/step\n",
      "1/1 [==============================] - 0s 13ms/step\n",
      "1/1 [==============================] - 0s 14ms/step\n",
      "1/1 [==============================] - 0s 13ms/step\n",
      "1/1 [==============================] - 0s 14ms/step\n"
     ]
    },
    {
     "data": {
      "text/plain": [
       "'вы в понедельник думайте позитивно и верьте в свою способность достигать отличных результатов если вы смогли в понедельник подняться позитивно и позитивно в'"
      ]
     },
     "execution_count": 17,
     "metadata": {},
     "output_type": "execute_result"
    }
   ],
   "source": [
    "buildPhrase(\"вы в понедельник\")"
   ]
  },
  {
   "cell_type": "code",
   "execution_count": null,
   "id": "6680c604",
   "metadata": {},
   "outputs": [],
   "source": []
  }
 ],
 "metadata": {
  "kernelspec": {
   "display_name": "Python 3 (ipykernel)",
   "language": "python",
   "name": "python3"
  },
  "language_info": {
   "codemirror_mode": {
    "name": "ipython",
    "version": 3
   },
   "file_extension": ".py",
   "mimetype": "text/x-python",
   "name": "python",
   "nbconvert_exporter": "python",
   "pygments_lexer": "ipython3",
   "version": "3.9.13"
  }
 },
 "nbformat": 4,
 "nbformat_minor": 5
}
